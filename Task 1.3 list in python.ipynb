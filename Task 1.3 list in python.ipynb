{
 "cells": [
  {
   "cell_type": "markdown",
   "id": "c9d197f0-fd79-4ef8-8fd3-e1552d0d0f76",
   "metadata": {},
   "source": [
    "#List :\n",
    "i)Ordered collection of element(sequence)\n",
    "\n",
    "ii)Mutable: modify list by add,remove,change element\n",
    "\n",
    "iii)one list contain element of different data types like integer string and other list.\n",
    "\n",
    "iv)access elements using \"indices\""
   ]
  },
  {
   "cell_type": "code",
   "execution_count": 2,
   "id": "e0f1e057-9ccc-430b-99cd-e40a5df66682",
   "metadata": {},
   "outputs": [
    {
     "name": "stdout",
     "output_type": "stream",
     "text": [
      "400\n",
      "500\n",
      "[200, 300, 400]\n",
      "[100, 200, 300, 400]\n",
      "[300, 400, 500]\n"
     ]
    }
   ],
   "source": [
    "#Accessing elements : accessing elements using Indexing(for individual ekements) and slicing(for a range element)\n",
    "#By indexing : Access individual elements\n",
    "\n",
    "a_list=[100,200,300,400,500]\n",
    "\n",
    "#Indexing\n",
    "print(a_list[3])\n",
    "print(a_list[-1])\n",
    "\n",
    "#slicing\n",
    "print(a_list[1:4])\n",
    "print(a_list[:4])\n",
    "print(a_list[2:])"
   ]
  },
  {
   "cell_type": "code",
   "execution_count": 4,
   "id": "8f7caeb1-1174-45a3-b140-79fb6d3eecc3",
   "metadata": {},
   "outputs": [
    {
     "name": "stdout",
     "output_type": "stream",
     "text": [
      "[100, 700, 300, 400, 500]\n",
      "[100, 700, 300, 400, 1100]\n"
     ]
    }
   ],
   "source": [
    "#Modifying elements : modifying an element by specifying its index and assigning a new value\n",
    "\n",
    "a_list=[100,200,300,400,500]\n",
    "\n",
    "#modifying the second element  i.e index 1\n",
    "a_list[1]=700\n",
    "print(a_list)          #[100,700,300,400,500] 200 replace by 700\n",
    "\n",
    "#modifying the last element     i.e index -1\n",
    "a_list[-1]=1100\n",
    "print(a_list)         #[100,700,300,400,1100] 500 replace by 1100"
   ]
  },
  {
   "cell_type": "code",
   "execution_count": 8,
   "id": "1a659ba9-d5c8-4512-a298-cf3706c5333c",
   "metadata": {},
   "outputs": [
    {
     "name": "stdout",
     "output_type": "stream",
     "text": [
      "[7, 8, 9, 4]\n",
      "[7, 8, 9, 15, 4]\n"
     ]
    }
   ],
   "source": [
    "#Adding Elements : add elements to list using append() and insert()\n",
    "#append\n",
    "#insert\n",
    "a=[7,8,9]\n",
    "\n",
    "#append()\n",
    "a.append(4)      #add 4 at the end of the list\n",
    "print(a)\n",
    "\n",
    "#insert()\n",
    "a.insert(3,15)   # insert element 15 at index position 2\n",
    "print(a)\n"
   ]
  },
  {
   "cell_type": "code",
   "execution_count": 10,
   "id": "64b9461a-2d3c-4515-8467-6ea935ddd3cf",
   "metadata": {},
   "outputs": [
    {
     "name": "stdout",
     "output_type": "stream",
     "text": [
      "[100, 200, 300, 500]\n",
      "[100, 200, 500]\n",
      "[200, 500]\n",
      "[]\n"
     ]
    }
   ],
   "source": [
    "#Removing Element : remove element using\n",
    "#remove(value)\n",
    "#pop(index)\n",
    "#clear()\n",
    "\n",
    "a=[100,200,300,400,500]\n",
    "\n",
    "#remove(value)   #Remove element\n",
    "a.remove(400)\n",
    "print(a)\n",
    "\n",
    "#pop(index)\n",
    "a.pop(2)\n",
    "print(a)\n",
    "a.pop(0)\n",
    "print(a)\n",
    "\n",
    "#clear()\n",
    "a.clear()\n",
    "print(a)"
   ]
  },
  {
   "cell_type": "code",
   "execution_count": 34,
   "id": "cba330cf-74db-41a8-85cc-c3426323aee8",
   "metadata": {},
   "outputs": [
    {
     "name": "stdout",
     "output_type": "stream",
     "text": [
      "[1, 8, 9, 12, 21, 23, 31, 34, 35]\n",
      "[35, 34, 31, 23, 21, 12, 9, 8, 1]\n",
      "[35, 34, 31, 23, 21, 12, 9, 8, 1, 82, 28]\n",
      "1\n",
      "9\n",
      "[35, 34, 31, 23, 21, 12, 9, 8, 1, 82, 28, 80]\n",
      "[35, 34, 31, 23, 21, 12, 9, 8, 1, 82, 28]\n"
     ]
    }
   ],
   "source": [
    "#other list method\n",
    "\n",
    "b=[1,12,21,31,34,23,35,9,8]\n",
    "\n",
    "#sort       #Sort the list in ascending order\n",
    "b.sort()\n",
    "print(b)\n",
    "\n",
    "#reverse      #Reverse the list\n",
    "b.reverse()\n",
    "print(b)\n",
    "\n",
    "#Extend()      #Add all elements of another list\n",
    "b.extend([82,28])\n",
    "print(b)\n",
    "\n",
    "#Count()\n",
    "print(b.count(28))\n",
    " \n",
    "#index()      #find the index of the element\n",
    "print(b.index(82))\n",
    "\n",
    "#copy()       #copy the list\n",
    "newlist=b.copy()\n",
    "newlist.append(80)\n",
    "print(newlist)\n",
    "print(b.copy())\n",
    "\n",
    "\n"
   ]
  },
  {
   "cell_type": "code",
   "execution_count": null,
   "id": "44a345b0-b2e1-4f5d-82c6-012d29520432",
   "metadata": {},
   "outputs": [],
   "source": []
  }
 ],
 "metadata": {
  "kernelspec": {
   "display_name": "Python [conda env:base] *",
   "language": "python",
   "name": "conda-base-py"
  },
  "language_info": {
   "codemirror_mode": {
    "name": "ipython",
    "version": 3
   },
   "file_extension": ".py",
   "mimetype": "text/x-python",
   "name": "python",
   "nbconvert_exporter": "python",
   "pygments_lexer": "ipython3",
   "version": "3.12.7"
  }
 },
 "nbformat": 4,
 "nbformat_minor": 5
}
