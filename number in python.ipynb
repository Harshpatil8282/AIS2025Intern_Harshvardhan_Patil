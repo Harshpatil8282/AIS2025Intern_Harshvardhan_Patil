{
 "cells": [
  {
   "cell_type": "markdown",
   "id": "b71c2fe4-051f-4feb-9a77-12cceb6a0d17",
   "metadata": {},
   "source": [
    "Number: Three type number i)integers ii)float iii)complex"
   ]
  },
  {
   "cell_type": "code",
   "execution_count": 11,
   "id": "5a614269-d37e-4b1e-be1c-214171610e77",
   "metadata": {},
   "outputs": [],
   "source": [
    "#Integers : whole numbers(without decimal point),also positive negative and zero\n",
    "x=20\n",
    "y=-7\n",
    "z=0 "
   ]
  },
  {
   "cell_type": "code",
   "execution_count": 13,
   "id": "e553142a-7a40-468e-bb89-fd59d2deab58",
   "metadata": {},
   "outputs": [],
   "source": [
    "#Floats : numbers that contain decimal points\n",
    "a=5.72\n",
    "b=0.003\n",
    "c=15.0"
   ]
  },
  {
   "cell_type": "code",
   "execution_count": 15,
   "id": "4ad22c1c-21ac-47c1-8d68-6e9903220490",
   "metadata": {},
   "outputs": [],
   "source": [
    "#Complex : two parts are present a)Real part and b)Imaginary part\n",
    "d=5+3j\n",
    "e=7+2j"
   ]
  },
  {
   "cell_type": "markdown",
   "id": "5ffe942a-c8f7-44de-9ce7-d9cce0c2e100",
   "metadata": {},
   "source": [
    "Basic Arithmatic Operation a)Addition b)Subtraction c)Multiplicatin d)Division"
   ]
  },
  {
   "cell_type": "code",
   "execution_count": 20,
   "id": "bafc0b42-189b-4865-be61-9c777fd587c4",
   "metadata": {},
   "outputs": [
    {
     "name": "stdout",
     "output_type": "stream",
     "text": [
      "13\n",
      "5.723\n",
      "(12+5j)\n"
     ]
    }
   ],
   "source": [
    "#Addition :\n",
    "\n",
    "#Int\n",
    "sum_int=x+y\n",
    "print(sum_int)\n",
    "\n",
    "#Float\n",
    "sum_float=a+b\n",
    "print(sum_float)\n",
    "\n",
    "#Complex\n",
    "sum_compl=d+e\n",
    "print(sum_compl)"
   ]
  },
  {
   "cell_type": "code",
   "execution_count": 23,
   "id": "53f93645-f00e-4c15-bb58-927cbc7ba31e",
   "metadata": {},
   "outputs": [
    {
     "name": "stdout",
     "output_type": "stream",
     "text": [
      "27\n",
      "5.717\n",
      "(-2+1j)\n"
     ]
    }
   ],
   "source": [
    "#Subtraction\n",
    "\n",
    "#Int\n",
    "sub_int=x-y\n",
    "print(sub_int)\n",
    "\n",
    "#Float\n",
    "sub_float=a-b\n",
    "print(sub_float)\n",
    "\n",
    "#Complex\n",
    "sub_compl=d-e\n",
    "print(sub_compl)"
   ]
  },
  {
   "cell_type": "code",
   "execution_count": 29,
   "id": "98319563-65b7-4252-b2a8-c5f4050f0e81",
   "metadata": {
    "scrolled": true
   },
   "outputs": [
    {
     "name": "stdout",
     "output_type": "stream",
     "text": [
      "0.06\n",
      "0.017159999999999998\n",
      "(29+31j)\n"
     ]
    }
   ],
   "source": [
    "#Multiplication\n",
    "\n",
    "#Int\n",
    "mul_int=x*b\n",
    "print(mul_int)\n",
    "\n",
    "#Float\n",
    "mul_float=a*b\n",
    "print(mul_float)\n",
    "\n",
    "#Complex\n",
    "mul_compl=d * e\n",
    "print(mul_compl)"
   ]
  },
  {
   "cell_type": "code",
   "execution_count": 31,
   "id": "d8b27369-ea1b-400e-b311-d4d18983a75f",
   "metadata": {},
   "outputs": [
    {
     "name": "stdout",
     "output_type": "stream",
     "text": [
      "-2.857142857142857\n",
      "1906.6666666666665\n",
      "(0.7735849056603773+0.2075471698113208j)\n"
     ]
    }
   ],
   "source": [
    "#Division\n",
    "\n",
    "#Int\n",
    "div_int=x/y\n",
    "print(div_int)\n",
    "\n",
    "#Float\n",
    "div_float=a/b\n",
    "print(div_float)\n",
    "\n",
    "#Complex\n",
    "div_compl=d/e\n",
    "print(div_compl)"
   ]
  },
  {
   "cell_type": "code",
   "execution_count": null,
   "id": "b8948b7b-abb5-4ee2-9d57-8df64791c424",
   "metadata": {},
   "outputs": [],
   "source": []
  }
 ],
 "metadata": {
  "kernelspec": {
   "display_name": "Python [conda env:base] *",
   "language": "python",
   "name": "conda-base-py"
  },
  "language_info": {
   "codemirror_mode": {
    "name": "ipython",
    "version": 3
   },
   "file_extension": ".py",
   "mimetype": "text/x-python",
   "name": "python",
   "nbconvert_exporter": "python",
   "pygments_lexer": "ipython3",
   "version": "3.12.7"
  }
 },
 "nbformat": 4,
 "nbformat_minor": 5
}
