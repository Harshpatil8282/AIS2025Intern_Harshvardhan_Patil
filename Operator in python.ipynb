{
 "cells": [
  {
   "cell_type": "markdown",
   "id": "806ff360-f5db-4ade-b9d1-4162a8b67ef7",
   "metadata": {},
   "source": [
    "#Operator"
   ]
  },
  {
   "cell_type": "code",
   "execution_count": null,
   "id": "8e021cda-3fa1-43b2-b526-12cb4cc3fa3a",
   "metadata": {},
   "outputs": [],
   "source": [
    "Operator : used to perform operation on variables and values"
   ]
  },
  {
   "cell_type": "markdown",
   "id": "edf8cb02-007b-4f50-b13d-477c7917f236",
   "metadata": {},
   "source": [
    "#Arithmatic Operators : these operators are used to perform mathematical operations such as addition,subtraction,multiplication,division,floor divsion,modulus,Exponentiation."
   ]
  },
  {
   "cell_type": "code",
   "execution_count": 10,
   "id": "0a3e34aa-68d2-4888-be05-fb0ca4c94a8a",
   "metadata": {},
   "outputs": [
    {
     "name": "stdout",
     "output_type": "stream",
     "text": [
      "24\n",
      "16\n",
      "80\n",
      "5.0\n",
      "5\n",
      "0\n",
      "160000\n"
     ]
    }
   ],
   "source": [
    "a=20\n",
    "b=4\n",
    "#Addition \n",
    "add=a+b\n",
    "print(add)\n",
    "\n",
    "#subtraction\n",
    "sub=a-b\n",
    "print(sub)\n",
    "\n",
    "#Multiplication\n",
    "mul=a*b\n",
    "print(mul)\n",
    "\n",
    "#division\n",
    "div=a/b\n",
    "print(div)\n",
    "\n",
    "#Floor division : Gives value before the point(eg. 3.3333--->\"3\")\n",
    "floor=a//b\n",
    "print(floor)\n",
    "\n",
    "#Modulus : Gives the remainder\n",
    "mod=a % b\n",
    "print(mod)\n",
    "\n",
    "#Exponentiation : Raises \"a\" to the power \"b\"\n",
    "exp=a ** b\n",
    "print(exp)\n"
   ]
  },
  {
   "cell_type": "markdown",
   "id": "e12db8ba-36ce-47f7-8348-b883ba2cfcab",
   "metadata": {},
   "source": [
    "#Comparison Operators: These operators are used to compare values and its result is boolean value(True or False)\n",
    "\n",
    "Operators like ==(Equal to),!=(not equal to),>(Greater than),<(Less than),>=(Greater than or equal to),<=(Less than or equal to)"
   ]
  },
  {
   "cell_type": "code",
   "execution_count": 13,
   "id": "dddc1c7f-268a-453b-91dd-66ca5e782677",
   "metadata": {},
   "outputs": [
    {
     "name": "stdout",
     "output_type": "stream",
     "text": [
      "False\n",
      "True\n",
      "True\n",
      "False\n",
      "True\n",
      "False\n"
     ]
    }
   ],
   "source": [
    "a=8\n",
    "b=5\n",
    "#Equal to ==\n",
    "print(a==b)\n",
    "\n",
    "#not equal to !=\n",
    "print(a!=b)\n",
    "\n",
    "#Greater than >\n",
    "print(a>b)\n",
    "\n",
    "#less than <\n",
    "print(a<b)\n",
    "\n",
    "#Greater than or equal to >=\n",
    "print(a>=b)\n",
    "\n",
    "#Less than or equal to <=\n",
    "print(a<=b)"
   ]
  },
  {
   "cell_type": "markdown",
   "id": "ca6ed00c-ae9f-480a-a380-52ae96fde64e",
   "metadata": {},
   "source": [
    "#Logical Operators : used to combine conditional statement and return boolean values\n",
    "\n",
    "operator like and,or,not"
   ]
  },
  {
   "cell_type": "code",
   "execution_count": 16,
   "id": "5437b47c-1c8e-479b-aca4-c0908ff98720",
   "metadata": {},
   "outputs": [
    {
     "name": "stdout",
     "output_type": "stream",
     "text": [
      "False\n",
      "True\n",
      "True\n"
     ]
    }
   ],
   "source": [
    "x=True\n",
    "y=False\n",
    "\n",
    "#And : Required both condition must be true then answer is true\n",
    "print(x and y)\n",
    "\n",
    "#Or : Required at least one condition is true\n",
    "print(x or y)\n",
    "\n",
    "#not : print opposite of the given value\n",
    "print(not y)"
   ]
  },
  {
   "cell_type": "markdown",
   "id": "48dc1421-7bbe-4249-94cd-8a1210d5febe",
   "metadata": {},
   "source": [
    "#Assignment Operators : used to asssign values to variables.\n",
    "\n",
    "Operator like=(simple assignment),+=(add and assign),-=(subtract and assign),*=(multiply and assign),/=(divide and assign),//=(floor divide and assign),%=(modulus and assign),**=(Exponentiate and assign)"
   ]
  },
  {
   "cell_type": "code",
   "execution_count": 19,
   "id": "075f8020-92d8-4ecc-853f-7f17e2c8f8f5",
   "metadata": {},
   "outputs": [
    {
     "name": "stdout",
     "output_type": "stream",
     "text": [
      "25\n",
      "23\n",
      "161\n",
      "40.25\n",
      "8.0\n",
      "8.0\n",
      "4096.0\n"
     ]
    }
   ],
   "source": [
    "#Simple assign\n",
    "x = 20\n",
    "\n",
    "#add and assign i.e x=x+5\n",
    "x+=5\n",
    "print(x)\n",
    "\n",
    "#sub and assign i.e x=x-2\n",
    "x-=2\n",
    "print(x)\n",
    "\n",
    "#multiply and assign i.e x=x*7\n",
    "x*=7\n",
    "print(x)\n",
    "\n",
    "#division and assign i.e x=x/4\n",
    "x/=4\n",
    "print(x)\n",
    "\n",
    "#Floor divide and assign i.e x=x//5\n",
    "x//=5\n",
    "print(x)\n",
    "\n",
    "#modulus and assign i.e x=x%10\n",
    "x%=10\n",
    "print(x)\n",
    "\n",
    "#Exponentiate and assign i.e x=x**4\n",
    "x**=4\n",
    "print(x)"
   ]
  },
  {
   "cell_type": "code",
   "execution_count": null,
   "id": "955f0dfb-679b-4dd7-b881-736bf068fd2a",
   "metadata": {},
   "outputs": [],
   "source": []
  }
 ],
 "metadata": {
  "kernelspec": {
   "display_name": "Python [conda env:base] *",
   "language": "python",
   "name": "conda-base-py"
  },
  "language_info": {
   "codemirror_mode": {
    "name": "ipython",
    "version": 3
   },
   "file_extension": ".py",
   "mimetype": "text/x-python",
   "name": "python",
   "nbconvert_exporter": "python",
   "pygments_lexer": "ipython3",
   "version": "3.12.7"
  }
 },
 "nbformat": 4,
 "nbformat_minor": 5
}
